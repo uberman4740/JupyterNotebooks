{
 "cells": [
  {
   "cell_type": "code",
   "execution_count": 1,
   "metadata": {
    "collapsed": true
   },
   "outputs": [],
   "source": [
    "import numpy as np\n",
    "import pandas as pd\n",
    "import sklearn\n",
    "import sklearn.cross_validation as cv\n",
    "import sklearn.grid_search as gs\n",
    "import sklearn.feature_extraction.text as text\n",
    "import sklearn.naive_bayes as nb\n",
    "import matplotlib.pyplot as plt\n",
    "import pymc as pm\n",
    "import daft\n",
    "\n",
    "%matplotlib inline\n",
    "\n",
    "import scipy.stats as stats\n",
    "from IPython.core.pylabtools import figsize\n",
    "\n",
    "from mpl_toolkits.mplot3d import Axes3D"
   ]
  },
  {
   "cell_type": "markdown",
   "metadata": {},
   "source": [
    "## Bayesian Inference: Bayesian Network"
   ]
  },
  {
   "cell_type": "markdown",
   "metadata": {},
   "source": [
    "We previously discussed a simple example of bayesian inference (Naive Bayes Claasifier to be specific): market condition A, B, C and outcomes of Success and Failure. And we generalized to continuous market conditions and outcomes. We call this example simple or 'naive,' not because it is discrete but we assumed A, B, C are independent:\n",
    "$$ P(A, B, C) = P(A)P(B)P(C) $$\n",
    "That is, market condition A or B does not affect C, and similarly. See left digaram below:"
   ]
  },
  {
   "cell_type": "code",
   "execution_count": 100,
   "metadata": {
    "collapsed": false
   },
   "outputs": [
    {
     "data": {
      "text/plain": [
       "<matplotlib.axes._axes.Axes at 0x118c90810>"
      ]
     },
     "execution_count": 100,
     "metadata": {},
     "output_type": "execute_result"
    },
    {
     "data": {
      "image/png": "[encoded data removed]",
      "text/plain": [
       "<matplotlib.figure.Figure at 0x118c91950>"
      ]
     },
     "metadata": {},
     "output_type": "display_data"
    }
   ],
   "source": [
    "pgm = daft.PGM([10, 4], origin=[.5,.5])\n",
    "pgm.add_node(daft.Node(\"A\", r\"A\", 4.0, 4.0))\n",
    "pgm.add_node(daft.Node(\"B\", r\"B\", 2.5, 4.0))\n",
    "pgm.add_node(daft.Node(\"C\", r\"C\", 1.0, 4.0))\n",
    "pgm.add_node(daft.Node(\"outcome\", r\"SF\", 2.5, 1.5))\n",
    "\n",
    "pgm.add_edge(\"A\", \"outcome\")\n",
    "pgm.add_edge(\"B\", \"outcome\")\n",
    "pgm.add_edge(\"C\", \"outcome\")\n",
    "\n",
    "pgm.add_node(daft.Node(\"Acal\", r\"$\\mathcal{A}$\", 10.0, 4.0))\n",
    "pgm.add_node(daft.Node(\"Bcal\", r\"$\\mathcal{B}$\", 8.0, 4.0))\n",
    "pgm.add_node(daft.Node(\"Ccal\", r\"$\\mathcal{C}$\", 9.0, 3.0))\n",
    "pgm.add_node(daft.Node(\"outcomeCal\", r\"SF\", 9.0, 1.5))\n",
    "\n",
    "pgm.add_edge(\"Acal\", \"Ccal\")\n",
    "pgm.add_edge(\"Acal\", \"Bcal\")\n",
    "pgm.add_edge(\"Bcal\", \"Ccal\")\n",
    "pgm.add_edge(\"Ccal\", \"outcomeCal\")\n",
    "\n",
    "pgm.render()"
   ]
  },
  {
   "cell_type": "markdown",
   "metadata": {},
   "source": [
    "We often need to consider when factors are not independent. See right diagram above: $\\mathcal{A}$ affects $\\mathcal{B}$ and $\\mathcal{C}$, $\\mathcal{B}$ affects $\\mathcal{C}$.\n",
    "\n",
    "For general case we have:\n",
    "$$ P(\\mathcal{A},\\mathcal{B}, \\mathcal{C}) = P(\\mathcal{A} \\mid \\mathcal{B}, \\mathcal{C}) P(\\mathcal{B} \\mid \\mathcal{C}) P(\\mathcal{C}) $$\n",
    "Bayesian Network (BN) is a systematic approach to investigate 'causalties' of factors, using Probability Graphical Model (PGM).\n",
    "\n",
    "In this write up, we contemplate applicability of BN (PGM) in trading."
   ]
  },
  {
   "cell_type": "markdown",
   "metadata": {},
   "source": [
    "#### Example [Bayesian Network]"
   ]
  },
  {
   "cell_type": "markdown",
   "metadata": {},
   "source": [
    "We refer to Wikipedia article for the definition of BN: 'https://en.wikipedia.org/wiki/Bayesian_network#Example'\n",
    "\n",
    "We adopt famous 'Rain-Sprinkler-Grass Wet' (RSG) example for our situation."
   ]
  },
  {
   "cell_type": "code",
   "execution_count": 101,
   "metadata": {
    "collapsed": false
   },
   "outputs": [
    {
     "data": {
      "text/html": [
       "<img src=\"http://upload.wikimedia.org/wikipedia/commons/0/0e/SimpleBayesNet.svg\"/>"
      ],
      "text/plain": [
       "<IPython.core.display.Image object>"
      ]
     },
     "execution_count": 101,
     "metadata": {},
     "output_type": "execute_result"
    }
   ],
   "source": [
    "from IPython.display import Image\n",
    "Image(url='http://upload.wikimedia.org/wikipedia/commons/0/0e/SimpleBayesNet.svg')"
   ]
  },
  {
   "cell_type": "markdown",
   "metadata": {},
   "source": [
    "Let 'cheapOil' denote market where oil price is below 70 dollars. We assume there is 20% chance this may happen:\n",
    "$$ P(cheapOil) = 0.2 \\ \\ P(\\neg cheapOil) = 0.8 $$\n",
    "Let 'teslaUp' denote market where Tesla stock goes up.  We assume following conditional probabilities:\n",
    "$$ P(teslaUp \\mid cheapOil) = 0.01\\ \\ P(teslaUp \\mid \\neg cheapOil) = 0.4 $$\n",
    "$$ P(\\neg teslaUp \\mid cheapOil) = 0.99\\ \\ P(\\neg teslaUp \\mid \\neg cheapOil) = 0.6 $$\n",
    "\n",
    "Next let 'hitachiUp' denote market where Hitachi battery stock goes up. Similarly we assume:\n",
    "$$ P (hitachiUp \\mid teslaUp, cheapOil) = 0.99 \\ \\ P (\\neg hitachiUp \\mid teslaUp, cheapOil) = 0.01 $$\n",
    "and so on (we are following table above with cheapOil=Rain, teslaUp=Sprinkler, hitachiUp=Grass Wet)."
   ]
  },
  {
   "cell_type": "markdown",
   "metadata": {},
   "source": [
    "Suppose we want to know $P(cheapOil \\mid hitachiUp)$: given Hitachi goes up, what is the probability of oil is under 70?  \n",
    "\n",
    "This can be manually calculated as shown in wikipedia: approximately 0.3577\n",
    "\n",
    "Note that this calculation is slightly more complicated than before, since we are not assuming independence (left diagram below).  Or if we were in situation when we only need to monitor Tesla stock to know how Hitachi stock behaves, things would have been simpler (right diagram below). Still, this example is simple enough with three nodes and 3 edges in PGM to compute manually."
   ]
  },
  {
   "cell_type": "code",
   "execution_count": 110,
   "metadata": {
    "collapsed": false,
    "scrolled": true
   },
   "outputs": [
    {
     "data": {
      "text/plain": [
       "<matplotlib.axes._axes.Axes at 0x11965ef50>"
      ]
     },
     "execution_count": 110,
     "metadata": {},
     "output_type": "execute_result"
    },
    {
     "data": {
      "image/png": "[encoded data removed]",
      "text/plain": [
       "<matplotlib.figure.Figure at 0x119128f90>"
      ]
     },
     "metadata": {},
     "output_type": "display_data"
    }
   ],
   "source": [
    "pgm = daft.PGM([9, 4], origin=[.5,.5])\n",
    "pgm.add_node(daft.Node(\"cO\", r\"cOil\", 5.0, 4.0))\n",
    "pgm.add_node(daft.Node(\"tUp\", r\"tUp\", 2.0, 4.0))\n",
    "pgm.add_node(daft.Node(\"hUp\", r\"hUp\", 3.5, 1.5))\n",
    "\n",
    "pgm.add_edge(\"cO\", \"hUp\")\n",
    "pgm.add_edge(\"tUp\", \"hUp\")\n",
    "\n",
    "pgm.add_node(daft.Node(\"cO1\", r\"$cOil$\", 8.0, 4.0))\n",
    "pgm.add_node(daft.Node(\"tUp1\", r\"tUp\", 8.0, 2.5))\n",
    "pgm.add_node(daft.Node(\"hUp1\", r\"hUp\", 8.0, 1.0))\n",
    "\n",
    "pgm.add_edge(\"cO1\", \"tUp1\")\n",
    "pgm.add_edge(\"tUp1\", \"hUp1\")\n",
    "pgm.render()"
   ]
  },
  {
   "cell_type": "markdown",
   "metadata": {
    "collapsed": true
   },
   "source": [
    "In general, we want to have many more nodes and edges in PGM: many factors affecting others in various ways.\n",
    "(We allow only Directed Acyclic Graph fpr PGM). \n",
    "\n",
    "For more genral PGM, we want to use simulation tools to estimate probabilities involved. MCMC is one of those tools."
   ]
  },
  {
   "cell_type": "markdown",
   "metadata": {
    "collapsed": true
   },
   "source": [
    "#### Example [Simple MCMC]"
   ]
  },
  {
   "cell_type": "markdown",
   "metadata": {},
   "source": [
    "SY Note: It took me for a while to figure out pyMC grammar. It is a popular library but documentation is sparse. I will put more comments when I become more comfortable with its black box inner workings.\n",
    "\n",
    "We start with Bernoulli distribution for cheapOil, teslaUp, hitachiUp.  Recall that if we keep flipping a fair coin, its head-tail tally follows Bernoulli distribution with probability $p=0.5$ \n",
    "\n",
    "We use $p=0.2$ for cheapOil and conditional probabilty (functions) for teslaUp and hitachiUp."
   ]
  },
  {
   "cell_type": "code",
   "execution_count": 46,
   "metadata": {
    "collapsed": false
   },
   "outputs": [
    {
     "name": "stdout",
     "output_type": "stream",
     "text": [
      " [-----------------100%-----------------] 10000 of 10000 complete in 1.5 sec"
     ]
    }
   ],
   "source": [
    "# initialization\n",
    "observed_hitachi = [1.]\n",
    "\n",
    "cheapOil = pm.Bernoulli('cheapOil', .2, value=np.ones(len(observed_hitachi)))\n",
    "\n",
    "p_teslaUp = pm.Lambda('p_teslaUp', lambda cheapOil=cheapOil: np.where(cheapOil, .01, .4))\n",
    "\n",
    "'''\n",
    "@pm.deterministic\n",
    "def p_teslaUp (cheapOil=cheapOil):\n",
    "    if cheapOil:\n",
    "        return 0.01\n",
    "    else:\n",
    "        return 0.4\n",
    "'''\n",
    "\n",
    "teslaUp = pm.Bernoulli('teslaUp', p_teslaUp, value=np.ones(len(observed_hitachi)))\n",
    "\n",
    "p_hitachiUp = pm.Lambda('p_hitachiUp', lambda teslaUp=teslaUp, cheapOil=cheapOil: np.where(teslaUp, np.where(cheapOil, 1.0, .9), \n",
    "                                                                                        np.where(cheapOil, .8, 0.2)))\n",
    "'''\n",
    "@pm.deterministic\n",
    "def p_hitachiUp (teslaUp=teslaUp, cheapOil=cheapOil):\n",
    "    if teslaUp:\n",
    "        if cheapOil:\n",
    "            return 0.99\n",
    "        else:\n",
    "            return 0.9\n",
    "    else:\n",
    "        if cheapOil:\n",
    "            return 0.8\n",
    "        else:\n",
    "            return 0.0\n",
    "'''                                                                                  \n",
    "hitachiUp = pm.Bernoulli('hitachiUp', p_hitachiUp, value=observed_hitachi, observed=True)\n",
    "\n",
    "model = pm.Model([hitachiUp, p_hitachiUp, teslaUp, p_teslaUp, cheapOil])\n",
    "\n",
    "mcmc = pm.MCMC(model)\n",
    "mcmc.sample(10000, 2000)"
   ]
  },
  {
   "cell_type": "markdown",
   "metadata": {},
   "source": [
    "Next we make a table:"
   ]
  },
  {
   "cell_type": "code",
   "execution_count": 47,
   "metadata": {
    "collapsed": false
   },
   "outputs": [
    {
     "data": {
      "text/html": [
       "<div>\n",
       "<table border=\"1\" class=\"dataframe\">\n",
       "  <thead>\n",
       "    <tr style=\"text-align: right;\">\n",
       "      <th></th>\n",
       "      <th>Cheap Oil</th>\n",
       "      <th>Hitachi Up</th>\n",
       "      <th>Tesla Up</th>\n",
       "      <th>Tesla Up Prob</th>\n",
       "    </tr>\n",
       "  </thead>\n",
       "  <tbody>\n",
       "    <tr>\n",
       "      <th>0</th>\n",
       "      <td>1</td>\n",
       "      <td>0.8</td>\n",
       "      <td>0</td>\n",
       "      <td>0.01</td>\n",
       "    </tr>\n",
       "    <tr>\n",
       "      <th>1</th>\n",
       "      <td>1</td>\n",
       "      <td>0.8</td>\n",
       "      <td>0</td>\n",
       "      <td>0.01</td>\n",
       "    </tr>\n",
       "    <tr>\n",
       "      <th>2</th>\n",
       "      <td>1</td>\n",
       "      <td>0.8</td>\n",
       "      <td>0</td>\n",
       "      <td>0.01</td>\n",
       "    </tr>\n",
       "    <tr>\n",
       "      <th>3</th>\n",
       "      <td>1</td>\n",
       "      <td>0.8</td>\n",
       "      <td>0</td>\n",
       "      <td>0.01</td>\n",
       "    </tr>\n",
       "    <tr>\n",
       "      <th>4</th>\n",
       "      <td>1</td>\n",
       "      <td>0.8</td>\n",
       "      <td>0</td>\n",
       "      <td>0.01</td>\n",
       "    </tr>\n",
       "    <tr>\n",
       "      <th>5</th>\n",
       "      <td>1</td>\n",
       "      <td>0.8</td>\n",
       "      <td>0</td>\n",
       "      <td>0.01</td>\n",
       "    </tr>\n",
       "    <tr>\n",
       "      <th>6</th>\n",
       "      <td>1</td>\n",
       "      <td>0.8</td>\n",
       "      <td>0</td>\n",
       "      <td>0.01</td>\n",
       "    </tr>\n",
       "    <tr>\n",
       "      <th>7</th>\n",
       "      <td>0</td>\n",
       "      <td>0.2</td>\n",
       "      <td>0</td>\n",
       "      <td>0.40</td>\n",
       "    </tr>\n",
       "    <tr>\n",
       "      <th>8</th>\n",
       "      <td>0</td>\n",
       "      <td>0.9</td>\n",
       "      <td>1</td>\n",
       "      <td>0.40</td>\n",
       "    </tr>\n",
       "    <tr>\n",
       "      <th>9</th>\n",
       "      <td>0</td>\n",
       "      <td>0.9</td>\n",
       "      <td>1</td>\n",
       "      <td>0.40</td>\n",
       "    </tr>\n",
       "    <tr>\n",
       "      <th>10</th>\n",
       "      <td>0</td>\n",
       "      <td>0.9</td>\n",
       "      <td>1</td>\n",
       "      <td>0.40</td>\n",
       "    </tr>\n",
       "    <tr>\n",
       "      <th>11</th>\n",
       "      <td>0</td>\n",
       "      <td>0.9</td>\n",
       "      <td>1</td>\n",
       "      <td>0.40</td>\n",
       "    </tr>\n",
       "  </tbody>\n",
       "</table>\n",
       "</div>"
      ],
      "text/plain": [
       "    Cheap Oil  Hitachi Up  Tesla Up  Tesla Up Prob\n",
       "0           1         0.8         0           0.01\n",
       "1           1         0.8         0           0.01\n",
       "2           1         0.8         0           0.01\n",
       "3           1         0.8         0           0.01\n",
       "4           1         0.8         0           0.01\n",
       "5           1         0.8         0           0.01\n",
       "6           1         0.8         0           0.01\n",
       "7           0         0.2         0           0.40\n",
       "8           0         0.9         1           0.40\n",
       "9           0         0.9         1           0.40\n",
       "10          0         0.9         1           0.40\n",
       "11          0         0.9         1           0.40"
      ]
     },
     "execution_count": 47,
     "metadata": {},
     "output_type": "execute_result"
    }
   ],
   "source": [
    "cheap_oil_trace = mcmc.trace('cheapOil')[:]\n",
    "p_tesla_up_trace = mcmc.trace('p_teslaUp')[:]\n",
    "tesla_up_trace = mcmc.trace('teslaUp')[:]\n",
    "p_hitachi_up_trace = mcmc.trace('p_hitachiUp')[:]\n",
    "\n",
    "# this does not work, why??\n",
    "#hitachi_up_trace = mcmc.trace('hitachiUp')[:]\n",
    "\n",
    "dictionary = {\n",
    "              'Cheap Oil': [1 if ii[0] else 0 for ii in cheap_oil_trace.tolist() ],\n",
    "              'Tesla Up': [1 if ii[0] else 0 for ii in tesla_up_trace.tolist() ],\n",
    "              'Tesla Up Prob': [ii[0] for ii in p_tesla_up_trace.tolist()],\n",
    "              'Hitachi Up': [ii[0] for ii in p_hitachi_up_trace.tolist()], # Hitachi Up Prob\n",
    "              }\n",
    "df = pd.DataFrame(dictionary)\n",
    "df[:12]\n"
   ]
  },
  {
   "cell_type": "markdown",
   "metadata": {},
   "source": [
    "We knew by hand calculation\n",
    "$$ P(cheapOil \\mid hitachiUp) = \\frac{P(cheapOil, hitachiUp)}{P(hitachiUp)} \\approx 0.3577 $$\n",
    "Now we estimate this from the simulation:"
   ]
  },
  {
   "cell_type": "code",
   "execution_count": 48,
   "metadata": {
    "collapsed": false
   },
   "outputs": [
    {
     "name": "stdout",
     "output_type": "stream",
     "text": [
      "MCMC estimation: 0.35809896225\n"
     ]
    }
   ],
   "source": [
    "tally_cheapOil_and_hitachiUp = df[(df['Cheap Oil'] == 1) & (df['Hitachi Up'] > 0.5)].shape[0]\n",
    "tally_hitachiUp = df[df['Hitachi Up'] > 0.5].shape[0]\n",
    "\n",
    "print 'MCMC estimation:', float(tally_cheapOil_and_hitachiUp)/tally_hitachiUp\n"
   ]
  },
  {
   "cell_type": "code",
   "execution_count": null,
   "metadata": {
    "collapsed": true
   },
   "outputs": [],
   "source": []
  }
 ],
 "metadata": {
  "kernelspec": {
   "display_name": "Python 2",
   "language": "python",
   "name": "python2"
  },
  "language_info": {
   "codemirror_mode": {
    "name": "ipython",
    "version": 2
   },
   "file_extension": ".py",
   "mimetype": "text/x-python",
   "name": "python",
   "nbconvert_exporter": "python",
   "pygments_lexer": "ipython2",
   "version": "2.7.9"
  }
 },
 "nbformat": 4,
 "nbformat_minor": 0
}
