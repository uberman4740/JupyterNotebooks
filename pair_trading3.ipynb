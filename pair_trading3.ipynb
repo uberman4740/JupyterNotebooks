{
 "cells": [
  {
   "cell_type": "code",
   "execution_count": 2,
   "metadata": {
    "collapsed": false
   },
   "outputs": [
    {
     "name": "stderr",
     "output_type": "stream",
     "text": [
      "/Users/sy/Dropbox/FinEng/Jupyter/jup1/lib/python2.7/site-packages/pandas/io/data.py:35: FutureWarning: \n",
      "The pandas.io.data module is moved to a separate package (pandas-datareader) and will be removed from pandas in a future version.\n",
      "After installing the pandas-datareader package (https://github.com/pydata/pandas-datareader), you can change the import ``from pandas.io import data, wb`` to ``from pandas_datareader import data, wb``.\n",
      "  FutureWarning)\n"
     ]
    }
   ],
   "source": [
    "import datetime\n",
    "import numpy as np\n",
    "import matplotlib.pyplot as plt\n",
    "import matplotlib.dates as mdates\n",
    "import pandas as pd\n",
    "import pandas.io.data as web\n",
    "import statsmodels.tsa.stattools as ts\n",
    "from statsmodels.tsa.tsatools import lagmat\n",
    "from statsmodels.tsa.stattools import coint\n",
    "import statsmodels.api as sm\n",
    "\n",
    "from tempfile import NamedTemporaryFile\n",
    "from IPython.display import HTML\n",
    "from matplotlib import animation\n",
    "\n",
    "import zipline\n",
    "from zipline import TradingAlgorithm\n",
    "from zipline.api import order_target, record, symbol, history\n",
    "\n",
    "import pytz\n",
    "from datetime import datetime\n",
    "\n",
    "%matplotlib inline"
   ]
  },
  {
   "cell_type": "markdown",
   "metadata": {},
   "source": [
    "## Preface: casual discussion"
   ]
  },
  {
   "cell_type": "markdown",
   "metadata": {},
   "source": [
    "Again and again, we use equations with the following form:\n",
    "$$ dp_t = a(t, p_t) dt +  b(t, p_t) dW_t $$\n",
    "\n",
    "This is called Stochastic Differential Equation (SDE).  \n",
    "\n",
    "The first part \n",
    "$$ dp_t = a(t, p_t) dt $$\n",
    "is a differential equation we are familiar with. We call this Deterministic part.  It may look more familiar in the form:\n",
    "$$ \\frac{dp}{dt} = a(t, p_t) $$\n",
    "We often want to understand $p_t$ by observing its rate of change over time $t$.\n",
    "\n",
    "Now the second part\n",
    "$$ b(t, p_t) dW_t $$\n",
    "represnets the Stochastic part.  We won't be able to grasp SDE right away. For now, we think of Stochastic Calculus (that contains SDE) as Calculus where variables are random variables. \n",
    "Here $W_t$ is probabilistic random variable.  In literature, we often see terms 'Brownian', 'Random', 'Stochastic' used interchangably to refer to $dW_t$ part.\n",
    "\n",
    "\n",
    "Q: So why SDE for pairt trading?\n",
    "\n",
    "A: Mean reversion is modelled using Orstein-Uhlenbeck SDE model, and cointegration testing uses a discrete version of OU model\n",
    "\n",
    "Now OU model SDE is:\n",
    "$$ dp_t = -\\rho (p_t - \\mu) dt + \\sigma dW_t $$\n",
    "(I previously used \n",
    "$d p_t = k(\\mu - p_t) dt + \\sigma dW_t $\n",
    "I tried to follow most common convention).\n",
    "\n",
    "In OU model, the deterministic part is\n",
    "$$ \\frac{dp}{dt} = -\\rho (p_t - \\mu)$$\n",
    "$p_t - \\mu$ represents displacement of $p_t$ from the mean $\\mu$ to which it will revert back.\n",
    "One way to think of it is that velocity $\\frac{dp}{dt}$ is proportional to the displacement from the mean (that makes sense). And $-\\rho$ is the proportion constant.  Of course, it does not have to be constant, it can vary with time. But it makes things simpler when we assume $-\\rho$ is constant at least a certain period.\n",
    "\n",
    "Now the stochastic part:\n",
    "$$ \\sigma dW_t $$\n",
    "Here $W_t$ is stochastic variable we use to model 'news', 'shock', or 'uncertainty' part of $p_t$ behaviour.  Even if, $p_t$ revert back to its mean, it will be bumpy with uncertainty and we want to incorporate that into our model.\n",
    "\n",
    "Q: what is $\\sigma$ then?\n",
    "\n",
    "A: We have to interpret $\\frac{dp_t}{dW_t}$ in Stochastic context which we cannot do here. For now, we can think of $\\sigma$ as some sort of \"regulator.\"   Volatility or variance is a good choice for $\\sigma$.\n",
    "\n",
    "Possible Answer for comments questions: \n",
    "\n",
    "- More detailed discussion and discretization of OU model follows below.\n",
    "\n",
    "- Definitions of 'Brownian motion', 'Random Walk' are somewhat informal and they seem to vary depending on context. The reason is that we can used different models to describe them.  As we start to deal with volatility model, we will need to be more precise and use more specific term like Wiener process that has a clear definition.\n",
    "\n",
    "- When we write \n",
    "$$ p_t = \\gamma p_{t-1} + \\dots $$\n",
    "$p_t$ seem to depend on $p_{t-1}$.  It surely does.  But what we are interested is its change:\n",
    "$$ \\Delta p_t = p_t -p_{t-1} = (\\gamma-1) p_{t-1} + \\dots $$\n",
    "So when $\\gamma =1$, $\\Delta p_t$ is independt of $p_{t-1}$ The result is 'random walk' as $\\Delta p_t$ only depends on stochastic part.\n",
    "\n",
    "- I made up term DMW. I should not use it, it is too informal.\n"
   ]
  },
  {
   "cell_type": "markdown",
   "metadata": {
    "collapsed": false
   },
   "source": [
    "# Pair Trading"
   ]
  },
  {
   "cell_type": "markdown",
   "metadata": {},
   "source": [
    "Find cointegrated pair $X_t, Y_t$: Do linear regression $Y_t = m X_t$ for some $m$ so that $Y_t - m X_t$ is stationary.\n",
    "\n",
    "The main reason we are interested in $Y_t - m X_t$ being stationary is that it becomes mean reverting."
   ]
  },
  {
   "cell_type": "markdown",
   "metadata": {},
   "source": [
    "## Mean Reverting Process"
   ]
  },
  {
   "cell_type": "markdown",
   "metadata": {},
   "source": [
    "For mean reverting process we use well known Diffusion Process model from Stochastic Differential Equations:\n",
    "$$ dp_t = a(t, p_t) dt +  b(t, p_t) dW_t $$\n",
    "\n",
    "Among diffusion process, we use Orstein-Uhlenbeck process in particualar. In terms of its use in pair trading, we will model $Y_t - mX_t$ as a discretized OU process. Then we apply Dickey-Fuller test to show this discretized OU process is indeed stationary (mean reverting).\n",
    "\n",
    "First, contemplate OU model:"
   ]
  },
  {
   "cell_type": "markdown",
   "metadata": {},
   "source": [
    "### Orstein-Uhlenbeck Model"
   ]
  },
  {
   "cell_type": "markdown",
   "metadata": {},
   "source": [
    "OU process is a stochastic process that follows\n",
    "$$ dp_t = -\\rho (p_t - \\mu) dt + \\sigma dW_t $$\n",
    "\n",
    "Consider this in form\n",
    "$$ \\frac{d p_t}{dt} = -\\rho (p_t - \\mu)  + \\dots $$\n",
    "That is, the rate of price change $\\frac{d p_t}{dt}$ is proportial to displacement $(p_t - \\mu)$\n",
    "\n",
    "Also note that $-\\rho< 0$, that is, the direction of the movement of $p_t$ is the opposite of displacement.\n",
    "\n",
    "Fourtunately, we can find a closed form solution to OU model:\n",
    "\n",
    "$$p_t = \\mu + e^{-\\rho t}(p_0 - \\mu) + \\sigma \\int_0^t e^{-\\rho (t-u)} \\ dW_u $$\n",
    "(Here the second term on LHS is Ito integral).\n",
    "\n",
    "Now we make some observations:\n",
    "- Note that as $t \\rightarrow \\infty$, $\\ p_t \\rightarrow \\mu$: That is, it is mean reverting\n",
    "- One reference of interest is the half life. We start from initial $p_0$ then revert back to its eventual mean $\\mu$. And we are interested in finding time takes to reach the midpoint $\\frac{p_0 + \\mu}{2}$\n",
    "\n",
    "We can compute the half life by solving\n",
    "$$ \n",
    "\\begin{eqnarray*}\n",
    "\\frac{p_0 + \\mu}{2} & = &\\mu + e^{-\\rho t}(p_0 - \\mu)   \\\\\n",
    "t & = & \\frac{\\ln 2 }{\\rho} \n",
    "\\end{eqnarray*} \n",
    "$$\n",
    "\n",
    "Next, we need to discretize OU process for numerical simulation.  One of the most common way is Euler-Murayama:"
   ]
  },
  {
   "cell_type": "markdown",
   "metadata": {},
   "source": [
    "### Discretization: Euler-Murayama"
   ]
  },
  {
   "cell_type": "markdown",
   "metadata": {},
   "source": [
    "We set OU model into more general SDE form:\n",
    "$$ dp_t = a(t, p_t) dt +  b(t, p_t) dW_t  $$\n",
    "\n",
    "For example we can use  Euler-Maruyama discretization of OU process into AR(1) process:\n",
    "First consider OU process equation as a recursive construction:\n",
    "$$ p_{t+1} = p_{t} +  a(p_{t}) \\Delta t + b(p_{t}) \\Delta W_{t} $$\n",
    "That is,\n",
    "$$\n",
    "\\begin{eqnarray*}\n",
    "a(p_{t}) \\Delta t + b(p_{t}) \\Delta W_{t-1} & \\approx & -\\rho (p_t - \\mu) dt + \\sigma dW_t \\\\\n",
    "\\text{where}\\ \\ a(p_{t}) & = &  -\\rho (p_t - \\mu) \\\\\n",
    " b(p_{t})  & = & \\sigma \\\\\n",
    "\\end{eqnarray*}\n",
    "$$\n",
    "Next we can set\n",
    "$$ \\sigma \\Delta W_t =   \\sigma \\epsilon_t  \\sqrt{\\Delta t} $$\n",
    "(We will not dwell on why $\\sqrt{\\Delta t}$ An interesting explanation is from Einstein's theory of Brownian motion.)"
   ]
  },
  {
   "cell_type": "markdown",
   "metadata": {},
   "source": [
    "#### Example [Generated OU model]"
   ]
  },
  {
   "cell_type": "code",
   "execution_count": 49,
   "metadata": {
    "collapsed": false
   },
   "outputs": [
    {
     "name": "stdout",
     "output_type": "stream",
     "text": [
      "Half Life: 0.990210257943\n"
     ]
    },
    {
     "data": {
      "text/plain": [
       "<matplotlib.lines.Line2D at 0x10be1a490>"
      ]
     },
     "execution_count": 49,
     "metadata": {},
     "output_type": "execute_result"
    },
    {
     "data": {
      "image/png": "[encoded data removed]",
      "text/plain": [
       "<matplotlib.figure.Figure at 0x10bceea50>"
      ]
     },
     "metadata": {},
     "output_type": "display_data"
    }
   ],
   "source": [
    "num_sims = 4\n",
    "N        = 1000\n",
    "\n",
    "y_init = 1.0\n",
    "t_init = 1\n",
    "t_end  = 9\n",
    "\n",
    "c_rho = 0.7\n",
    "c_mu    = 1.5\n",
    "c_sigma = 0.06\n",
    "\n",
    "def mu(y, t): \n",
    "    return -c_rho * (y - c_mu)\n",
    "        \n",
    "def sigma(y, t): \n",
    "    return c_sigma\n",
    "\n",
    "dt   = float(t_end - t_init) / N\n",
    "dW   = lambda dt: np.random.normal(loc = 0.0, scale = np.sqrt(dt))\n",
    "\n",
    "t    = np.arange(t_init, t_end, dt)\n",
    "y    = np.zeros(N)\n",
    "y[0] = y_init\n",
    "\n",
    "for i_sim in range(num_sims):\n",
    "    for i in xrange(1, t.size):\n",
    "        a = mu(y[i-1], (i-1) * dt)\n",
    "        b = sigma(y[i-1], (i-1) * dt)\n",
    "        y[i] = y[i-1] + a * dt + b * dW(dt)\n",
    "    plt.plot(t, y)\n",
    "\n",
    "hL= np.log(2)/c_rho\n",
    "print 'Half Life:', hL\n",
    "\n",
    "std = np.sqrt(y.var())\n",
    "#print 'std:', std\n",
    "\n",
    "plt.ylim([0.9,2.2])\n",
    "plt.axvline(hL+t_init, c='r')\n",
    "plt.axhline((y_init+c_mu)/2, c='k') #midway between p_0 and mu\n",
    "plt.axhline(c_mu, c='g')\n",
    "plt.axhline(c_mu+std, c='k', ls='dotted')\n",
    "plt.axhline(c_mu-std, c='k', ls='dotted')\n"
   ]
  },
  {
   "cell_type": "markdown",
   "metadata": {},
   "source": [
    "This generated example convinces us the OU is reasonable model for mean reverting behaviour.\n",
    "\n",
    "Now given a candidate pair $(Y_t, X_t)$, we do linear regression and we want to show stationarity.  The common tool is Dickey-Fuller test:"
   ]
  },
  {
   "cell_type": "markdown",
   "metadata": {},
   "source": [
    "### Dickey-Fuller: Unit Root Test "
   ]
  },
  {
   "cell_type": "markdown",
   "metadata": {},
   "source": [
    "To see the morale behind DF test, we examine discretization of OU model:\n",
    "Recall Euler-Murayama discretization of OU model:\n",
    "\n",
    "$$\n",
    "\\begin{eqnarray*}\n",
    "d p_t & = & -\\rho (p_t - \\mu) dt + \\sigma dW_t \\\\\n",
    "p_{t+1} & = & p_t + a(p_{t}) \\Delta t + b(p_{t}) \\Delta W_{t}  \\\\\n",
    "p_{t+1} & = & p_t -\\rho (p_t - \\mu) \\Delta t + \\sigma \\Delta W_{t} \\\\\n",
    "p_{t+1} & = &  (1- \\rho \\Delta t)  p_t + \\rho \\mu \\Delta t + \\sigma \\sqrt{\\Delta t}\\  \\epsilon_{t} \\\\\n",
    "p_{t+1} & = &  \\gamma  p_t + \\rho \\mu \\Delta t + \\sigma \\sqrt{\\Delta t}\\  \\epsilon_{t} \\\\\n",
    " & \\text{or} & \\\\\n",
    "\\Delta p_{t+1} & = & (\\gamma-1)  p_t + \\rho \\mu \\Delta t + \\sigma \\sqrt{\\Delta t}\\  \\epsilon_{t} \\\\\n",
    "\\end{eqnarray*}\n",
    "$$\n",
    "\n",
    "DF test examines if $\\gamma$ is a unit root. If $\\gamma =1$ then the increment of $p_t$ is \n",
    "Brownian in nature and it is not stationary:\n",
    "$$ \\Delta p = \\rho \\mu \\Delta t + \\sigma \\sqrt{\\Delta t}\\  \\epsilon_{t}$$\n"
   ]
  },
  {
   "cell_type": "markdown",
   "metadata": {},
   "source": [
    "In DF test, the null hypothesis is that $\\gamma=1$: process is not stationary.\n",
    "Just as in any other hypothesis testing, we obtain a statistic and find its p-score.\n",
    "In DF test, this statistic is\n",
    "$$ DFS = \\frac{\\hat{\\gamma} - 1}{s.e.(\\hat{\\gamma}) } $$\n",
    "According to DF, $DFS$ does not follow normal or Student's t distributions.   \n",
    "We  need to test $DFS$ against a simulated ditribution table, and the lastest one is by Mackinnon."
   ]
  },
  {
   "cell_type": "code",
   "execution_count": 27,
   "metadata": {
    "collapsed": true
   },
   "outputs": [],
   "source": [
    "# mostly taken from statsmodels 'coint', 'adfuller' method\n",
    "def produce_DF_stat(X, Y):\n",
    "    \n",
    "    # find Y-mX\n",
    "    p_t = sm.OLS(Y, X).fit().resid   \n",
    "    p_t_lag = sm.add_constant(p_t[0:-1], prepend=False) #p_{t-1}\n",
    "    \n",
    "    # DF test: unit root regression with p_t and p_{t-1}\n",
    "    uroot_reg = sm.OLS(p_t[1:], p_t_lag).fit() \n",
    "    \n",
    "    # see the formula above\n",
    "    gamma_hat = uroot_reg.params[0] # later, this will be used to find the half life \n",
    "    ste_gamma_hat = uroot_reg.bse[0]\n",
    "    DFS = (gamma_hat - 1) / ste_gamma_hat # DF statistic\n",
    "    \n",
    "    return DFS, gamma_hat"
   ]
  },
  {
   "cell_type": "markdown",
   "metadata": {},
   "source": [
    "Under python statsmodels library, these steps are automated by coint method."
   ]
  },
  {
   "cell_type": "markdown",
   "metadata": {
    "collapsed": true
   },
   "source": [
    "## Pair trading entry-exit strategy"
   ]
  },
  {
   "cell_type": "markdown",
   "metadata": {},
   "source": [
    "Note: We try pair trading on intraday with minute data.\n",
    "\n",
    "Once we decide $Z_t = Y_t - m X_t$ is mean reverting, we compute its mean, standard deviation.\n",
    "\n",
    "Now our assumption is the fluctuation of $Z_t$ follows Gaussian. So we find z-score and decide entry-exit points based on z-scores.\n",
    "\n",
    "The key assumption in pair trading is that pair $(X,Y)$ is cointegrated for a period so that its residual $Z_t = Y - m X_t$ is stationary for that period: in particular, a constant mean and a deviation. \n",
    "\n",
    "To compute stats such as mean, deviation, z-score, we typically need to decide a trailing window for $Z_t$. \n",
    "\n",
    "Q: What is appropriate traling window?\n",
    "\n",
    "A: Once 'dynamics of cointegration' of the pair is well understood, we estimate the half life. The multiples of half life are good candidates for this window. \n"
   ]
  },
  {
   "cell_type": "markdown",
   "metadata": {},
   "source": [
    "### Suggested Task: Dynamics of Cointegration"
   ]
  },
  {
   "cell_type": "markdown",
   "metadata": {},
   "source": [
    "We make an easy to use widget to investigate dynamics of cointegration.  For example, we input a pair and varies trailing window.  Then observe dynamics of cointegration: how p-values of cointegration evolve and cluster.\n",
    "\n",
    "c.f. Pair Trading Study 2"
   ]
  }
 ],
 "metadata": {
  "kernelspec": {
   "display_name": "Python 2",
   "language": "python",
   "name": "python2"
  },
  "language_info": {
   "codemirror_mode": {
    "name": "ipython",
    "version": 2
   },
   "file_extension": ".py",
   "mimetype": "text/x-python",
   "name": "python",
   "nbconvert_exporter": "python",
   "pygments_lexer": "ipython2",
   "version": "2.7.9"
  }
 },
 "nbformat": 4,
 "nbformat_minor": 0
}
