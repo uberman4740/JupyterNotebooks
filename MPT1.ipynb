{
 "cells": [
  {
   "cell_type": "code",
   "execution_count": 2,
   "metadata": {
    "collapsed": false
   },
   "outputs": [],
   "source": [
    "%matplotlib inline\n",
    "import numpy as np\n",
    "import matplotlib.pyplot as plt\n",
    "import cvxopt as opt\n",
    "from cvxopt import blas, solvers\n",
    "import pandas as pd\n",
    "\n",
    "np.random.seed(123)\n",
    "\n",
    "# Turn off progress printing \n",
    "solvers.options['show_progress'] = False"
   ]
  },
  {
   "cell_type": "markdown",
   "metadata": {},
   "source": [
    "# Managing Portfolio : Brief Theoritical Background thru MPT"
   ]
  },
  {
   "cell_type": "markdown",
   "metadata": {},
   "source": [
    "The goal of this note is to illustrate Modern Portfolio Theory (MPT): how to balance assets in a portfolio to maximize the expected return and minimize the risk.  The risk is defined to be the standard deviation of the return in MPT.\n",
    "\n",
    "This approach may seem naive in that it oversimplifies things. (MPT is formulated by Markowitz in 1950s).  Nevertheless, it illustrates a good starting point on which we refine and base our decisions.\n",
    "\n",
    "We start with a simple example:"
   ]
  },
  {
   "cell_type": "markdown",
   "metadata": {},
   "source": [
    "## Example: two risky assets"
   ]
  },
  {
   "cell_type": "markdown",
   "metadata": {},
   "source": [
    "Suppose that we have a portfolio $P$ composed of two assets, $P(X, Y)$.  We represent the composition of $P$ by\n",
    "\n",
    "$$ P  = w X + (1-w) Y $$\n",
    "\n",
    "For example, if $w=0.5$ then $P$ is composed of equal amount of $X$ and $Y$.\n",
    "\n",
    "Now we denote the expected return on $P$ by $E(R_P)$. And the expected return on $X$ by $\\mu_X$.\n",
    "Note that\n",
    "$$E(R_P) = w \\mu_X + (1-w) \\mu_Y $$\n",
    "\n",
    "Now we let $\\sigma^2_P$ denote the variance of the return on $P$. Note that \n",
    "$$\\sigma^2_P = w^2 \\sigma^2_X + (1-w)^2 \\sigma^2_Y + 2w(1-w) \\rho_{XY} \\sigma_x \\sigma_Y $$\n",
    "where $\\rho_{XY}$ is the correlation between the return on $X$ and $Y$.\n",
    "\n",
    "Now we want to choose $w$ so that it maxmizes $E(R_P)$ and minimize $\\sigma_P$.   \n",
    "We approach this problem as an optimization problem with constraint.  That is,\n",
    "we fix $E(R_P)$ and see how to find minima of $\\sigma_P$ (or $\\sigma^2_P$)."
   ]
  },
  {
   "cell_type": "markdown",
   "metadata": {},
   "source": [
    "We make this example more concrete by assuming specific values: suppose that $\\mu_X =0.14$, $\\mu_Y =0.08$, $\\sigma_X=0.2$, $\\sigma_Y=0.15$ and $\\rho_{XY} = 0$.   Then\n",
    "$$ E(R_P) = 0.14 w + (1-w)0.08 = 0.08 + 0.06w$$\n",
    "$$ \\sigma^2_P = (0.2)^2 w^2 + (0.15)^2 (1-w)^2 $$\n",
    "\n",
    "We note that in this simple case, we can differentiate $\\sigma^2_P$ and see that it has minimum when\n",
    "$$w = 0.36$$\n",
    "\n",
    "Now we plot below $E(R_P)$ against $\\sigma_P$ where parameter $w$ varies $[0,1]$\n",
    "As we have seen, $\\sigma_p$ is the smallest when $w=0.36$. Observe that as we increases $w$, the expected return also increases.  See red dots in the graph.  This upper half of the curve is called 'efficient frontier'.\n",
    "That is, if we set the acceptable risk, the red portion is the maximum expected returns. "
   ]
  },
  {
   "cell_type": "code",
   "execution_count": 30,
   "metadata": {
    "collapsed": false
   },
   "outputs": [
    {
     "data": {
      "text/plain": [
       "[<matplotlib.lines.Line2D at 0x1127885d0>]"
      ]
     },
     "execution_count": 30,
     "metadata": {},
     "output_type": "execute_result"
    },
    {
     "data": {
      "image/png": "[encoded data removed]",
      "text/plain": [
       "<matplotlib.figure.Figure at 0x111d49790>"
      ]
     },
     "metadata": {},
     "output_type": "display_data"
    }
   ],
   "source": [
    "w  = np.arange(0.36, 1.0,0.05)\n",
    "\n",
    "er_p =  0.08 + 0.06*w\n",
    "sigma_p = (0.2)**2 * w**2 + (0.15)**2 * (1-w)**2\n",
    "\n",
    "plt.xlim([0.09, 0.25])\n",
    "plt.ylim([0.06, 0.15])\n",
    "plt.ylabel('$E(R_P)$')\n",
    "plt.xlabel('$\\sigma_P$')\n",
    "plt.title('Red: Efficient Frontier')\n",
    "plt.plot(np.sqrt(sigma_p), er_p, 'o-r' )\n",
    "\n",
    "wi = np.arange(0.0, 0.35, 0.05)\n",
    "\n",
    "er_pi =  0.08 + 0.06*wi\n",
    "sigma_pi = (0.2)**2 * wi**2 + (0.15)**2 * (1-wi)**2\n",
    "\n",
    "plt.plot(np.sqrt(sigma_pi), er_pi, 'o-b' )\n"
   ]
  },
  {
   "cell_type": "markdown",
   "metadata": {},
   "source": [
    "Remark: In this example we started with a simple portfolio consisting of only two assets.  This was simple enough to illuminate the idea of MPT and directly relevant to the basic pair trading model. However, we eventually need to consider more realistic porfolio examples.  To do so, we need to use matrix notation to represent component assets in their weights in a portfolio.    \n",
    "\n",
    "We consider general MPT examples, more than two assets. "
   ]
  },
  {
   "cell_type": "markdown",
   "metadata": {},
   "source": [
    "## General Case: Optimization"
   ]
  },
  {
   "cell_type": "markdown",
   "metadata": {},
   "source": [
    "### Notations"
   ]
  },
  {
   "cell_type": "markdown",
   "metadata": {},
   "source": [
    "Consider a portfolio that contains $n$ assets $P(X_1, \\dots , X_n)$. Each $X_i$ has expected return $R_i$\n",
    "and wieght $w_i$ so that \n",
    "$$ \\sum_{i=1}^n w_i =1 $$\n",
    "(For example, if $P = 0.2 X_1 + 0.3 X_2 + 0.5 X_3$ then \n",
    "$$ w = \\begin{bmatrix}\n",
    "0.2 \\\\ \n",
    "0.3\\\\\n",
    "0.5 \\\\\n",
    "\\end{bmatrix}\n",
    "$$\n",
    ")\n",
    "\n",
    "\n",
    "We can use column vector notation for the expected returns:\n",
    "$$ R = \\begin{bmatrix}\n",
    "R_1 \\\\ \n",
    "R_2\\\\\n",
    "\\cdots \\\\\n",
    "R_n \\\\\n",
    "\\end{bmatrix}\n",
    "$$\n",
    "\n",
    "We know that the expected return on the portfolio is:\n",
    "$$ E(R_P) = w_1 R_1 + \\cdots + w_n R_n $$\n",
    "\n",
    "We write this more compactly using matrix notation:\n",
    "$$ E(R_P) = R^t w =\n",
    "\\begin{bmatrix}\n",
    "R_1 & R_2 &\\cdots & R_n \\\\\n",
    "\\end{bmatrix}\n",
    "\\begin{bmatrix}\n",
    "w_1 \\\\ \n",
    "w_2\\\\\n",
    "\\cdots \\\\\n",
    "w_n \\\\\n",
    "\\end{bmatrix}\n",
    "$$ )\n",
    "\n",
    "Next the variance of the return on portfolio can be written compactly\n",
    "$$ \\sigma^2_P = w^t C w $$\n",
    "where $C$ is the covariance matrix of $R$\n",
    "\n",
    "Now we formulate portfolio balancing problem into the following optimization problem:"
   ]
  },
  {
   "cell_type": "markdown",
   "metadata": {},
   "source": [
    "#### Minimize (risk) $\\sigma^2_P = w^t C w $ with constraint $R^t w = \\mu$ for a fixed (expected return) $\\mu$"
   ]
  },
  {
   "cell_type": "markdown",
   "metadata": {},
   "source": [
    "There are many approaches to solve the above optimization problem. We start with simulation experiment;"
   ]
  },
  {
   "cell_type": "markdown",
   "metadata": {},
   "source": [
    "We randomly generate the return on assets and randomly choose weights of each assets inside the portfolio.  "
   ]
  },
  {
   "cell_type": "code",
   "execution_count": 42,
   "metadata": {
    "collapsed": false
   },
   "outputs": [
    {
     "name": "stdout",
     "output_type": "stream",
     "text": [
      "[ 0.24211888  0.02112333  0.27763449  0.17691337  0.28220994]\n"
     ]
    }
   ],
   "source": [
    "num_of_assets = 5\n",
    "num_of_obs = 1000\n",
    "\n",
    "return_vec = np.random.randn(num_of_assets, num_of_obs)\n",
    "\n",
    "# we randomly choose weights of assets composing our portfolio\n",
    "def rand_weights(n):\n",
    "    ''' Produces n random weights that sum to 1 '''\n",
    "    k = np.random.rand(n)\n",
    "    return k / sum(k)\n",
    "\n",
    "print rand_weights(num_of_assets)"
   ]
  },
  {
   "cell_type": "markdown",
   "metadata": {},
   "source": [
    "Next we generate portfolios using above ranmdom returns and weights: "
   ]
  },
  {
   "cell_type": "code",
   "execution_count": 43,
   "metadata": {
    "collapsed": true
   },
   "outputs": [],
   "source": [
    "def rand_portfolio(returns):\n",
    "\n",
    "    R = np.asmatrix(np.mean(returns, axis=1))\n",
    "    w = np.asmatrix(rand_weights(returns.shape[0]))\n",
    "    C = np.asmatrix(np.cov(returns))\n",
    "    \n",
    "    mu = w * R.T\n",
    "    sigma = np.sqrt(w * C * w.T)\n",
    "    \n",
    "    # This recursion reduces outliers\n",
    "    if sigma > 2:\n",
    "        return rand_portfolio(returns)\n",
    "    return mu, sigma"
   ]
  },
  {
   "cell_type": "markdown",
   "metadata": {},
   "source": [
    "For each generated portfolio, we calculate expected retunrs and standard deviation of the returns.  Plotting \n",
    "returns against std produce shape we observed in the two assets example:"
   ]
  },
  {
   "cell_type": "code",
   "execution_count": 47,
   "metadata": {
    "collapsed": false
   },
   "outputs": [
    {
     "data": {
      "text/plain": [
       "<matplotlib.text.Text at 0x1133de5d0>"
      ]
     },
     "execution_count": 47,
     "metadata": {},
     "output_type": "execute_result"
    },
    {
     "data": {
      "image/png": "[encoded data removed]",
      "text/plain": [
       "<matplotlib.figure.Figure at 0x1130a2a10>"
      ]
     },
     "metadata": {},
     "output_type": "display_data"
    }
   ],
   "source": [
    "num_of_portfolios = 600\n",
    "means, stds = np.column_stack([\n",
    "    rand_portfolio(return_vec) \n",
    "    for _ in xrange(num_of_portfolios)\n",
    "])\n",
    "\n",
    "plt.plot(stds, means, 'o', markersize=3)\n",
    "plt.xlabel('std ($\\sigma_P$)')\n",
    "plt.ylabel('mean ($E(R_p)$)')\n",
    "plt.title('Randomly generated portfolios')"
   ]
  },
  {
   "cell_type": "markdown",
   "metadata": {},
   "source": [
    "Since portfolios are generated randomly, most of them are not efficient.  That is, wieghts are not chosen the most efficient manner. The goal is to find $w$ so that the plot reside on the efficient frontier. "
   ]
  },
  {
   "cell_type": "markdown",
   "metadata": {},
   "source": [
    "### To Be Continued"
   ]
  }
 ],
 "metadata": {
  "kernelspec": {
   "display_name": "Python 2",
   "language": "python",
   "name": "python2"
  },
  "language_info": {
   "codemirror_mode": {
    "name": "ipython",
    "version": 2
   },
   "file_extension": ".py",
   "mimetype": "text/x-python",
   "name": "python",
   "nbconvert_exporter": "python",
   "pygments_lexer": "ipython2",
   "version": "2.7.9"
  }
 },
 "nbformat": 4,
 "nbformat_minor": 0
}
