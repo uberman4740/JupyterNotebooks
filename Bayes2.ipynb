{
 "cells": [
  {
   "cell_type": "code",
   "execution_count": 1,
   "metadata": {
    "collapsed": true
   },
   "outputs": [],
   "source": [
    "import numpy as np\n",
    "import pandas as pd\n",
    "import sklearn\n",
    "import sklearn.cross_validation as cv\n",
    "import sklearn.grid_search as gs\n",
    "import sklearn.feature_extraction.text as text\n",
    "import sklearn.naive_bayes as nb\n",
    "import matplotlib.pyplot as plt\n",
    "%matplotlib inline\n",
    "\n",
    "\n",
    "import scipy.stats as stats\n",
    "from IPython.core.pylabtools import figsize\n",
    "\n",
    "from mpl_toolkits.mplot3d import Axes3D"
   ]
  },
  {
   "cell_type": "markdown",
   "metadata": {},
   "source": [
    "## Bayesian Inference : Market Condition "
   ]
  },
  {
   "cell_type": "markdown",
   "metadata": {},
   "source": [
    "### Discrete Example"
   ]
  },
  {
   "cell_type": "markdown",
   "metadata": {},
   "source": [
    "We classify market condtion into 3 cases: A, B and C.  We also use numrtical notation: 1, 2 ,3 to denote A, B, C, repectively.  Suppose we know there is 10% chance for A, 60 for B and 30% chance for C.  We can think of this probability distribution of market condition:"
   ]
  },
  {
   "cell_type": "code",
   "execution_count": 20,
   "metadata": {
    "collapsed": false
   },
   "outputs": [
    {
     "data": {
      "text/plain": [
       "([<matplotlib.axis.YTick at 0x114493b90>,\n",
       "  <matplotlib.axis.YTick at 0x1142aed10>,\n",
       "  <matplotlib.axis.YTick at 0x1145654d0>],\n",
       " <a list of 3 Text yticklabel objects>)"
      ]
     },
     "execution_count": 20,
     "metadata": {},
     "output_type": "execute_result"
    },
    {
     "data": {
      "image/png": "[encoded data removed]",
      "text/plain": [
       "<matplotlib.figure.Figure at 0x113ce88d0>"
      ]
     },
     "metadata": {},
     "output_type": "display_data"
    }
   ],
   "source": [
    "conds = [1, 2,2,2,2,2,2, 3,3,3]\n",
    "plt.hist(conds, bins=5, color=\"k\", histtype=\"stepfilled\", alpha=0.9)\n",
    "plt.xlim([0,4])\n",
    "plt.ylim([0,7])\n",
    "plt.xticks([1.2, 2.0 ,2.8], ['A','B','C'])\n",
    "plt.yticks([1.0, 6.0, 3.0], [0.1,0.6,0.3])"
   ]
  },
  {
   "cell_type": "markdown",
   "metadata": {},
   "source": [
    "Now we test an algorithm TA and we know that TA has 30% chance of success when market condition is in A, 50% for B and 80% for C.  In conditional probability notation we write:\n",
    "\n",
    "$$ P(S \\mid A) = 0.3 , \\ P(S \\mid B) = 0.5 , \\   P(S \\mid C) =  0.8 $$\n",
    "\n",
    "So probability of success is:\n",
    " $$P(S) = P(S \\mid A)P(A)+P(S \\mid B)P(B) + P(S \\mid C) P(C) = 0.3 \\times 0.1 + 0.5 \\times 0.6+0.8 \\times 0.3=0.57 $$\n",
    " \n",
    "By Bayes Theorem:\n",
    "$$ P(A \\mid S) = \\frac{P(S \\mid A) P(A)} {P(S)} $$\n",
    "For example, we can find the probabilty that market condition is A when TA was successful:\n",
    "$$ P(A \\mid S) = \\frac{ 0.3 \\times 0.1}{0.57} $$"
   ]
  },
  {
   "cell_type": "markdown",
   "metadata": {},
   "source": [
    "### Generalization"
   ]
  },
  {
   "cell_type": "markdown",
   "metadata": {},
   "source": [
    "Next we want to generalize: classification of market condition is not clear cut like A,B,C.  That is, we want a gradation of market condition. What we want is to describe market condition in terms of (continuous) probability distribution. For example:   "
   ]
  },
  {
   "cell_type": "code",
   "execution_count": 45,
   "metadata": {
    "collapsed": false
   },
   "outputs": [
    {
     "data": {
      "text/plain": [
       "<matplotlib.text.Text at 0x1154f46d0>"
      ]
     },
     "execution_count": 45,
     "metadata": {},
     "output_type": "execute_result"
    },
    {
     "data": {
      "image/png": "[encoded data removed]",
      "text/plain": [
       "<matplotlib.figure.Figure at 0x114a378d0>"
      ]
     },
     "metadata": {},
     "output_type": "display_data"
    }
   ],
   "source": [
    "m_conds = np.linspace(0,4,100) #gradual market conditions\n",
    "\n",
    "cond_dist = stats.norm(1.0, 0.3).pdf(m_conds) + stats.norm(2.0,0.2).pdf(m_conds)+stats.norm(3.0,0.3).pdf(m_conds)\n",
    "\n",
    "plt.plot(m_conds, cond_dist, color='k')\n",
    "plt.xlim([0,4])\n",
    "plt.ylim([0,2.5])\n",
    "plt.xticks([1.0, 2.0 ,3.0], ['A=1','B=2','C=3'])\n",
    "plt.yticks([1.0, 2.0 ], ['',''])\n",
    "plt.title('Market Condition')"
   ]
  },
  {
   "cell_type": "markdown",
   "metadata": {},
   "source": [
    "So how do we know this curve we made up is a probability distribution?  In previous discrete example we had\n",
    "$$ P(A) +P(B)+P(C) = 0.1+ 0.6 + 0.3 = 1.0 $$\n",
    "\n",
    "In this continuous case we have to make sure this curve integrate to 1.  \n",
    "\n",
    "Let $$ \\text{market condition} = MC \\in [0,4] $$\n",
    "$$ dist(MC) = \\text{probabity that market condition is} \\ MC $$\n",
    "Then we must have:\n",
    "$$ \\int_{0}^{4} dist(MC)\\ d \\mu $$\n",
    "(Here $d\\mu$ is called probability measure.)\n",
    "\n",
    "In discrete case, if we can have numerous market conditions, say $\\{ A_1, A_2, \\dots , A_m\\}$\n",
    "\n",
    "Then probability chart should add up to 1:\n",
    "$$ \\sum_{i=1}^{m} P(A_i) = 1 $$\n",
    "Indeed, the integral is limiting version of $\\sum$ notation of discrete case."
   ]
  },
  {
   "cell_type": "markdown",
   "metadata": {},
   "source": [
    "#### So how about probabilities of success (S) and failure (F)?"
   ]
  },
  {
   "cell_type": "markdown",
   "metadata": {},
   "source": [
    "We numerate by setting $S (success) =10.0$ and $F (failure) =-10.0$\n",
    "\n",
    "Then as before, we can use discrete distribution for TA (trading algorithm) such as $P(S)=0.8,\\ P(F)=0.2$\n",
    "\n",
    "But even better, we choose continuous gradation of successes and failures.  That is, we numerate S and F as interval $[-10, 10]$ and denote by variable SF"
   ]
  },
  {
   "cell_type": "code",
   "execution_count": 108,
   "metadata": {
    "collapsed": false
   },
   "outputs": [
    {
     "data": {
      "text/plain": [
       "<matplotlib.text.Text at 0x11d4b3610>"
      ]
     },
     "execution_count": 108,
     "metadata": {},
     "output_type": "execute_result"
    },
    {
     "data": {
      "image/png": "[encoded data removed]",
      "text/plain": [
       "<matplotlib.figure.Figure at 0x11ce3b8d0>"
      ]
     },
     "metadata": {},
     "output_type": "display_data"
    }
   ],
   "source": [
    "s_f = np.linspace(-10.0, 10.0, 100) # SF as interval\n",
    "s_f_dist = stats.norm(0.0, 2.0).pdf(s_f) #Gaussian again, but not necessary.\n",
    "\n",
    "plt.plot(s_f, s_f_dist)\n",
    "plt.xlabel('SF')\n",
    "plt.ylim([0,0.3])\n",
    "plt.title('S-F distribution under some market')"
   ]
  },
  {
   "cell_type": "markdown",
   "metadata": {},
   "source": [
    "We chose above Gaussian distribution for SF. Here we implicitly assumed some market condition, MC.  In bayesian terms, this is 'likelihood' denoted $P(SF \\mid MC)$  \n",
    "\n",
    "Recall that we chose for market conditions: $MC \\in [0,4]$\n",
    "\n",
    "For this example, we assume that SF distribution is Gaussian with different volatility ranging from 0.5 to 4.5\n",
    "Market is most volatile (4.5) when market condition is 0 or 4.  And when market condition is 2.0, volatility is 0.5\n"
   ]
  },
  {
   "cell_type": "code",
   "execution_count": 88,
   "metadata": {
    "collapsed": false
   },
   "outputs": [
    {
     "name": "stdout",
     "output_type": "stream",
     "text": [
      "4.5\n"
     ]
    }
   ],
   "source": [
    "vol = 0.5+(m_conds-2.0)**2 \n",
    "\n",
    "print np.max(vol)"
   ]
  },
  {
   "cell_type": "markdown",
   "metadata": {},
   "source": [
    "### Bayes Theorem (General Version)"
   ]
  },
  {
   "cell_type": "markdown",
   "metadata": {},
   "source": [
    "Only change is finding $P(SF)$.  In discrete case, we had sum. In general we have integral.  Note that assuming we can write success and failure as some function of market condition, $SF(MC)$, we write: \n",
    "$$ P(MC \\mid SF) = \\frac{P(SF \\mid MC) P(MC)} {P(SF)} = \\frac{P(SF \\mid MC) P(MC)}{\\int P(SF(mc))\\ d\\mu}  $$"
   ]
  },
  {
   "cell_type": "markdown",
   "metadata": {},
   "source": [
    "### What's ahead"
   ]
  },
  {
   "cell_type": "markdown",
   "metadata": {},
   "source": [
    "We will eventually want to find Posterior $P(MC \\mid SF)$, improved information from data.  MCMC is a promising tool.\n",
    "\n",
    "Prior, $P(MC)$ should usually come from data or experience, similarly for likelihood $P(SF \\mid MC)$. \n",
    "\n",
    "Of course, we can change the setup and switch the roles of SF and MC.  Typical workflow is \n",
    "- Estimate prior and likelihood\n",
    "- MCMC simulate to get posterior."
   ]
  },
  {
   "cell_type": "markdown",
   "metadata": {},
   "source": [
    "#### Graphing $P(SF \\mid MC)$"
   ]
  },
  {
   "cell_type": "markdown",
   "metadata": {},
   "source": [
    "We graph $P(SF \\mid MC)$ where $SF \\in [-10, 10]$ and $MC \\in [0,4]$\n",
    "\n",
    "We choose $P(SF \\mid MC)$ to be z coordinate. Then we can surface plot likelihood $P(SF \\mid MC)$"
   ]
  },
  {
   "cell_type": "code",
   "execution_count": 106,
   "metadata": {
    "collapsed": false
   },
   "outputs": [
    {
     "data": {
      "text/plain": [
       "(0.0, 1.0)"
      ]
     },
     "execution_count": 106,
     "metadata": {},
     "output_type": "execute_result"
    },
    {
     "data": {
      "image/png": "[encoded data removed]",
      "text/plain": [
       "<matplotlib.figure.Figure at 0x11d9f4790>"
      ]
     },
     "metadata": {},
     "output_type": "display_data"
    }
   ],
   "source": [
    "from mpl_toolkits.mplot3d import Axes3D\n",
    "from matplotlib import cm\n",
    "from matplotlib.ticker import LinearLocator, FormatStrFormatter\n",
    "\n",
    "fig = plt.figure()\n",
    "ax = fig.gca(projection='3d')\n",
    "\n",
    "# MC, m_conds : x-axis [0, 4]\n",
    "# SF, s_f: y-axis [-10, 10]\n",
    "X, Y = np.meshgrid(m_conds, s_f)\n",
    "\n",
    "Z = stats.norm(0.0, 0.5+(X-2.0)**2 ).pdf(Y)\n",
    "\n",
    "ax.plot_surface(X, Y, Z,rstride=1, cstride=1, cmap=cm.coolwarm, linewidth=0, antialiased=False)\n",
    "ax.set_zlim(0.0, 1.0)\n"
   ]
  },
  {
   "cell_type": "markdown",
   "metadata": {},
   "source": [
    "#### Remark"
   ]
  },
  {
   "cell_type": "markdown",
   "metadata": {},
   "source": [
    "I think bayesian inference and MCMC is conceptually and theoretically much more challenging than most ML, especially Deep Learning. I am still debating how much we should investigate MCMC since\n",
    "- I heard MCMC is not widely used in quant finance perhaps because MCMC doesn't apply well to time series.\n",
    "- bayesian inference is definitely useful for thought process.\n",
    "- most ML techniques are based on bayesian.\n",
    "- most ML algorithms seem much less challenging than MCMC, conceptually.\n",
    "\n",
    "$\\Alpha$"
   ]
  },
  {
   "cell_type": "code",
   "execution_count": null,
   "metadata": {
    "collapsed": true
   },
   "outputs": [],
   "source": []
  }
 ],
 "metadata": {
  "kernelspec": {
   "display_name": "Python 2",
   "language": "python",
   "name": "python2"
  },
  "language_info": {
   "codemirror_mode": {
    "name": "ipython",
    "version": 2
   },
   "file_extension": ".py",
   "mimetype": "text/x-python",
   "name": "python",
   "nbconvert_exporter": "python",
   "pygments_lexer": "ipython2",
   "version": "2.7.9"
  }
 },
 "nbformat": 4,
 "nbformat_minor": 0
}
