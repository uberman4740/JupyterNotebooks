{
 "cells": [
  {
   "cell_type": "code",
   "execution_count": 4,
   "metadata": {
    "collapsed": false
   },
   "outputs": [],
   "source": [
    "\n",
    "import pytz\n",
    "import matplotlib.pyplot as plt\n",
    "import numpy as np\n",
    "import pandas as pd \n",
    "\n",
    "%matplotlib inline"
   ]
  },
  {
   "cell_type": "markdown",
   "metadata": {},
   "source": [
    "Suppose we have a time series data over 1000 days: $r(t),\\  t = 1,2, \\dots , 1000$\n",
    "\n",
    "Now we want to see how $r(t)$ changes in 3 days\n",
    "$$ d(1)= r(4)-r(1),\\ d(2)= r(5)-r(2),\\ \\dots ,\\ d(997) = r(1000)-r(997) $$\n",
    "\n",
    "Here we have a new time series $d(t), t= 1,2, \\dots , 997$\n",
    "\n",
    "Next we compute standard deviation (over $t$) of $d(t)$ and call it $G(3)$\n",
    "$$ G(3) = std(d) $$\n",
    "But we can do the same for changes in 4 days and\n",
    "find $G(4)$, and so on.  That is, $G(lags)$ can be thought of as a function of lags.\n",
    "\n",
    "Intuitively, if a time series is trending, $G$ will grow as lags becomes larger and larger.\n",
    "One way to compute Hurst Exponent is to find how function $G$ grows \n",
    "asymptotically by comparing it with polynomial growth function $x^H$ as lags gets larger and larger.\n",
    "\n"
   ]
  },
  {
   "cell_type": "code",
   "execution_count": 97,
   "metadata": {
    "collapsed": false
   },
   "outputs": [
    {
     "data": {
      "text/plain": [
       "<matplotlib.axes._subplots.AxesSubplot at 0x10b18f8d0>"
      ]
     },
     "execution_count": 97,
     "metadata": {},
     "output_type": "execute_result"
    },
    {
     "data": {
      "image/png": "[encoded data removed]",
      "text/plain": [
       "<matplotlib.figure.Figure at 0x10a146150>"
      ]
     },
     "metadata": {},
     "output_type": "display_data"
    }
   ],
   "source": [
    "#ts = np.random.randn(1000)\n",
    "#ts = np.cumsum(np.random.randn(1000))+100\n",
    "ts = np.cumsum(np.random.randn(1000)+1)+100\n",
    "\n",
    "def std_with_lag(lag):\n",
    "    d_lag = np.subtract(ts[lag:], ts[:-lag])\n",
    "    \n",
    "    return np.std(d_lag)\n",
    "\n",
    "G = []\n",
    "\n",
    "for i in range(2,100):\n",
    "    G.append(std_with_lag(i))\n",
    "    \n",
    "grow = pd.Series(G)\n",
    "grow.plot()\n"
   ]
  },
  {
   "cell_type": "markdown",
   "metadata": {},
   "source": [
    "Definition of Hurst Exponent in the book is a little different but I think it's basically same thing. For example, I suspect he is taking logarithm to regularize time series to work well with NumPy 'polyfit'. \n",
    "\n",
    "In 'hursts(ts)' function, I was confused with 'sqrt' in defining 'tau' but he multiplies 2.0 before returing it."
   ]
  },
  {
   "cell_type": "markdown",
   "metadata": {},
   "source": [
    "I have been playing with time series analysis lately and I rather use existing libraries to find metric like Hurst Exponent. Different libraries use different numerical algorithms and precision seems to matter in practice.   I find R libraries more reliable than ones in Python somehow.  I didn't find usable one in C/C++.  It's funny since most R libraries are written in C++.       "
   ]
  },
  {
   "cell_type": "code",
   "execution_count": null,
   "metadata": {
    "collapsed": true
   },
   "outputs": [],
   "source": []
  }
 ],
 "metadata": {
  "kernelspec": {
   "display_name": "Python 2",
   "language": "python",
   "name": "python2"
  },
  "language_info": {
   "codemirror_mode": {
    "name": "ipython",
    "version": 2
   },
   "file_extension": ".py",
   "mimetype": "text/x-python",
   "name": "python",
   "nbconvert_exporter": "python",
   "pygments_lexer": "ipython2",
   "version": "2.7.9"
  }
 },
 "nbformat": 4,
 "nbformat_minor": 0
}
